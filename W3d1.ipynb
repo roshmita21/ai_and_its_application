{
  "cells": [
    {
      "cell_type": "markdown",
      "metadata": {
        "id": "zZEukuYYAVPy"
      },
      "source": [
        "###Traditional Programming VS Machine Learning"
      ]
    },
    {
      "cell_type": "code",
      "execution_count": null,
      "metadata": {
        "id": "YtCGwc8rBARt",
        "colab": {
          "base_uri": "https://localhost:8080/"
        },
        "outputId": "cdddba17-ae72-42bd-cfcb-496cfa67bedd"
      },
      "outputs": [
        {
          "output_type": "stream",
          "name": "stdout",
          "text": [
            "True\n"
          ]
        }
      ],
      "source": [
        "#Traditional Programming : You give the rules and data and get output\n",
        "# Machine Learning: You give the data and output and ML will find the rules\n",
        "#loss = actual - predicted # if machine le memorize garyo bhane overfit ko case huncha\n",
        "# machine lai bujhayera garaune function\n",
        "\n",
        "#traditional programming\n",
        "def is_even(num):\n",
        "  return num % 2 == 0\n",
        "\n",
        "print(is_even(2))\n",
        "\n",
        "# Thinking (Pseudocode)\n",
        "# Data: [2,4,6,8,10]        #even\n",
        "# Data: [1,3,5,7,9]         #odd\n",
        "\n",
        "#Goal : Let the ML model find patterns and classify new numbers\n",
        "\n"
      ]
    },
    {
      "cell_type": "markdown",
      "metadata": {
        "id": "uaPl25IOEjbs"
      },
      "source": [
        "Predicting Odd vs Even using Decision Tree"
      ]
    },
    {
      "cell_type": "code",
      "execution_count": null,
      "metadata": {
        "colab": {
          "base_uri": "https://localhost:8080/"
        },
        "id": "sJ_LqTB9APM_",
        "outputId": "8eb394a6-3518-4302-f576-776f309c7f21"
      },
      "outputs": [
        {
          "output_type": "stream",
          "name": "stdout",
          "text": [
            "['even']\n"
          ]
        },
        {
          "output_type": "stream",
          "name": "stderr",
          "text": [
            "/usr/local/lib/python3.11/dist-packages/sklearn/utils/validation.py:2739: UserWarning: X does not have valid feature names, but DecisionTreeClassifier was fitted with feature names\n",
            "  warnings.warn(\n"
          ]
        }
      ],
      "source": [
        "#Importing Library\n",
        "import pandas as pd\n",
        "from sklearn.tree import DecisionTreeClassifier\n",
        "\n",
        "#Preparing Data\n",
        "X = pd.DataFrame({'number':[1,2,3,4,5,6,7,8,9,10]}) #features\n",
        "y = ['odd','even','odd','even','odd','even','odd','even','odd','even'] #target\n",
        "#creating Model\n",
        "model = DecisionTreeClassifier()     #in built model\n",
        "\n",
        "#Training Model\n",
        "model.fit(X,y)\n",
        "\n",
        "#Making Predictions(Inferencing)\n",
        "print(model.predict([[12]]))"
      ]
    },
    {
      "cell_type": "markdown",
      "metadata": {
        "id": "ThGRR-uRIPiG"
      },
      "source": [
        "Can the machine generalize well with few data points\n",
        "Is this a good use-case for ML?"
      ]
    },
    {
      "cell_type": "code",
      "execution_count": null,
      "metadata": {
        "colab": {
          "base_uri": "https://localhost:8080/"
        },
        "id": "KcWjngSDG3Qv",
        "outputId": "b606bd59-9aba-4dd8-b88a-ed89d363931c"
      },
      "outputs": [
        {
          "output_type": "stream",
          "name": "stdout",
          "text": [
            "['even']\n"
          ]
        },
        {
          "output_type": "stream",
          "name": "stderr",
          "text": [
            "/usr/local/lib/python3.11/dist-packages/sklearn/utils/validation.py:2739: UserWarning: X does not have valid feature names, but DecisionTreeClassifier was fitted with feature names\n",
            "  warnings.warn(\n"
          ]
        }
      ],
      "source": [
        "import pandas as pd\n",
        "from sklearn.tree import DecisionTreeClassifier\n",
        "\n",
        "# Generating 1000 data points\n",
        "X = pd.DataFrame({'number': list(range(1, 1001))})\n",
        "y = ['even' if i % 2 == 0 else 'odd' for i in X['number']]\n",
        "\n",
        "# Creating and training the model\n",
        "model = DecisionTreeClassifier()\n",
        "model.fit(X, y)\n",
        "\n",
        "# Making a prediction\n",
        "print(model.predict([[1393]]))"
      ]
    },
    {
      "cell_type": "code",
      "execution_count": null,
      "metadata": {
        "colab": {
          "base_uri": "https://localhost:8080/"
        },
        "id": "x0MY16YSP6mC",
        "outputId": "fd200013-7a0c-4707-ff48-e3e877a0c91d"
      },
      "outputs": [
        {
          "output_type": "stream",
          "name": "stdout",
          "text": [
            "['odd']\n"
          ]
        },
        {
          "output_type": "stream",
          "name": "stderr",
          "text": [
            "/usr/local/lib/python3.11/dist-packages/sklearn/utils/validation.py:2739: UserWarning: X does not have valid feature names, but DecisionTreeClassifier was fitted with feature names\n",
            "  warnings.warn(\n"
          ]
        }
      ],
      "source": [
        "#Importing Library\n",
        "import pandas as pd\n",
        "from sklearn.tree import DecisionTreeClassifier\n",
        "\n",
        "#Preparing Data\n",
        "X = pd.DataFrame({'number':[1,-2,3,-4,5,-6,-7,-8,-9,-10]}) #features\n",
        "y = ['odd','even','odd','even','odd','even','odd','even','odd','even'] #target\n",
        "#creating Model\n",
        "model = DecisionTreeClassifier()     #in built model\n",
        "\n",
        "#Training Model\n",
        "model.fit(X,y)\n",
        "\n",
        "#Making Predictions(Inferencing)\n",
        "print(model.predict([[12]]))"
      ]
    },
    {
      "cell_type": "code",
      "source": [
        "import pandas as pd\n",
        "import matplotlib.pyplot as plt\n",
        "import seaborn as sns\n",
        "df = pd.read_csv(\"/content/weight_labels.csv\")\n",
        "print(df)"
      ],
      "metadata": {
        "colab": {
          "base_uri": "https://localhost:8080/"
        },
        "id": "GXCoKizO1XEG",
        "outputId": "611304c2-4a78-4820-b754-62159db55d1d"
      },
      "execution_count": null,
      "outputs": [
        {
          "output_type": "stream",
          "name": "stdout",
          "text": [
            "         weight        label\n",
            "0     77.450712       normal\n",
            "1     67.926035       normal\n",
            "2     79.715328       normal\n",
            "3     92.845448   overweight\n",
            "4     66.487699       normal\n",
            "...         ...          ...\n",
            "9995  89.516531   overweight\n",
            "9996  40.024825  underweight\n",
            "9997  59.420249       normal\n",
            "9998  77.436484       normal\n",
            "9999  79.665827       normal\n",
            "\n",
            "[10000 rows x 2 columns]\n"
          ]
        }
      ]
    },
    {
      "cell_type": "code",
      "source": [
        "import pandas as pd\n",
        "from sklearn.tree import DecisionTreeClassifier\n",
        "\n",
        "# Generating 1000 data points\n",
        "# X = df[['temperature']]\n",
        "# y = df[[\"label\"]]\n",
        "\n",
        "# Creating and training the model\n",
        "model = DecisionTreeClassifier()\n",
        "model.fit(X, y)\n",
        "\n",
        "# Making a prediction\n",
        "print(model.predict([[35.230299]]))"
      ],
      "metadata": {
        "colab": {
          "base_uri": "https://localhost:8080/"
        },
        "id": "gqt3goox2nN0",
        "outputId": "9863fffa-1f63-4f3f-f153-ce8412b3b0ba"
      },
      "execution_count": null,
      "outputs": [
        {
          "output_type": "stream",
          "name": "stdout",
          "text": [
            "['underweight']\n"
          ]
        },
        {
          "output_type": "stream",
          "name": "stderr",
          "text": [
            "/usr/local/lib/python3.11/dist-packages/sklearn/utils/validation.py:2739: UserWarning: X does not have valid feature names, but DecisionTreeClassifier was fitted with feature names\n",
            "  warnings.warn(\n"
          ]
        }
      ]
    },
    {
      "cell_type": "markdown",
      "source": [
        "Weight"
      ],
      "metadata": {
        "id": "YAc3x4v54Mbr"
      }
    },
    {
      "cell_type": "code",
      "source": [
        "#Loading dataset\n",
        "import pandas as pd\n",
        "import matplotlib.pyplot as plt\n",
        "import seaborn as sns\n",
        "df = pd.read_csv(\"/content/weight_labels.csv\")\n",
        "print(df)"
      ],
      "metadata": {
        "colab": {
          "base_uri": "https://localhost:8080/"
        },
        "id": "KpgYLf0h3c29",
        "outputId": "b7f4b272-3d32-44d5-f797-df6ebe613d16"
      },
      "execution_count": null,
      "outputs": [
        {
          "output_type": "stream",
          "name": "stdout",
          "text": [
            "         weight        label\n",
            "0     77.450712       normal\n",
            "1     67.926035       normal\n",
            "2     79.715328       normal\n",
            "3     92.845448   overweight\n",
            "4     66.487699       normal\n",
            "...         ...          ...\n",
            "9995  89.516531   overweight\n",
            "9996  40.024825  underweight\n",
            "9997  59.420249       normal\n",
            "9998  77.436484       normal\n",
            "9999  79.665827       normal\n",
            "\n",
            "[10000 rows x 2 columns]\n"
          ]
        }
      ]
    },
    {
      "cell_type": "code",
      "source": [
        "import pandas as pd\n",
        "from sklearn.tree import DecisionTreeClassifier\n",
        "\n",
        "# Generating 1000 data points\n",
        "X = df[['weight']]\n",
        "y = df[[\"label\"]]\n",
        "\n",
        "# Creating and training the model\n",
        "model = DecisionTreeClassifier()\n",
        "model.fit(X, y)\n",
        "\n",
        "# Making a prediction\n",
        "print(model.predict([[59.420249]]))"
      ],
      "metadata": {
        "colab": {
          "base_uri": "https://localhost:8080/"
        },
        "id": "16dHExZr2991",
        "outputId": "a6945421-4006-4668-c37b-a2cad44c15be"
      },
      "execution_count": null,
      "outputs": [
        {
          "output_type": "stream",
          "name": "stdout",
          "text": [
            "['normal']\n"
          ]
        },
        {
          "output_type": "stream",
          "name": "stderr",
          "text": [
            "/usr/local/lib/python3.11/dist-packages/sklearn/utils/validation.py:2739: UserWarning: X does not have valid feature names, but DecisionTreeClassifier was fitted with feature names\n",
            "  warnings.warn(\n"
          ]
        }
      ]
    },
    {
      "cell_type": "code",
      "source": [],
      "metadata": {
        "id": "AAtu5Ht_4JUM"
      },
      "execution_count": null,
      "outputs": []
    }
  ],
  "metadata": {
    "colab": {
      "provenance": []
    },
    "kernelspec": {
      "display_name": "Python 3",
      "name": "python3"
    },
    "language_info": {
      "name": "python"
    }
  },
  "nbformat": 4,
  "nbformat_minor": 0
}