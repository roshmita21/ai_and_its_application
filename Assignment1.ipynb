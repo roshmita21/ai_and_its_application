{
  "nbformat": 4,
  "nbformat_minor": 0,
  "metadata": {
    "colab": {
      "provenance": []
    },
    "kernelspec": {
      "name": "python3",
      "display_name": "Python 3"
    },
    "language_info": {
      "name": "python"
    }
  },
  "cells": [
    {
      "cell_type": "markdown",
      "source": [
        "1"
      ],
      "metadata": {
        "id": "mnmYyOH9pRE1"
      }
    },
    {
      "cell_type": "code",
      "execution_count": 3,
      "metadata": {
        "colab": {
          "base_uri": "https://localhost:8080/"
        },
        "id": "cNOEGxGypNq1",
        "outputId": "16422660-9c98-4bb2-cd16-aa76c36d2074"
      },
      "outputs": [
        {
          "output_type": "stream",
          "name": "stdout",
          "text": [
            "0.49999999999999994\n"
          ]
        }
      ],
      "source": [
        "#import math and calculate sine of 30 degrees\n",
        "import math\n",
        "calc_sine = math.sin(math.radians(30))\n",
        "print(calc_sine)"
      ]
    },
    {
      "cell_type": "code",
      "source": [
        "# import random as rng and generate random integer betn 50-75\n",
        "import random as rng\n",
        "print(rng.randint(50,75))\n"
      ],
      "metadata": {
        "colab": {
          "base_uri": "https://localhost:8080/"
        },
        "id": "wwLeF45vpzI5",
        "outputId": "20ee3e6b-3b3b-4b12-d24e-54ac0ed69aa3"
      },
      "execution_count": 6,
      "outputs": [
        {
          "output_type": "stream",
          "name": "stdout",
          "text": [
            "56\n"
          ]
        }
      ]
    },
    {
      "cell_type": "code",
      "source": [
        "%%writefile calc.py\n",
        "def sqr_num(a):\n",
        "  return a*a"
      ],
      "metadata": {
        "colab": {
          "base_uri": "https://localhost:8080/"
        },
        "id": "WNZ2crI5q5Gv",
        "outputId": "09416da5-b8c5-4684-8080-8dca66e0e4a8"
      },
      "execution_count": 7,
      "outputs": [
        {
          "output_type": "stream",
          "name": "stdout",
          "text": [
            "Writing calc.py\n"
          ]
        }
      ]
    },
    {
      "cell_type": "code",
      "source": [
        "#main.py\n",
        "import calc\n",
        "res=calc.sqr_num(8)\n",
        "print(\"The square of 8 is:\",res)"
      ],
      "metadata": {
        "colab": {
          "base_uri": "https://localhost:8080/"
        },
        "id": "hyc20J7ErRY4",
        "outputId": "5023db1d-995b-4335-cd1e-98c408d3563c"
      },
      "execution_count": 9,
      "outputs": [
        {
          "output_type": "stream",
          "name": "stdout",
          "text": [
            "The square of 8 is: 64\n"
          ]
        }
      ]
    },
    {
      "cell_type": "code",
      "source": [
        "from random import choice\n",
        "fruits = [\"Mango\",\"Apple\",\"Grape\"]\n",
        "result = choice(fruits)\n",
        "print(\"The chosen fruit is :\",result)\n"
      ],
      "metadata": {
        "colab": {
          "base_uri": "https://localhost:8080/"
        },
        "id": "FB2L7fc6ruu_",
        "outputId": "1c3e8298-243c-4499-d741-471c491f9513"
      },
      "execution_count": 16,
      "outputs": [
        {
          "output_type": "stream",
          "name": "stdout",
          "text": [
            "The chosen fruit is : Mango\n"
          ]
        }
      ]
    },
    {
      "cell_type": "code",
      "source": [],
      "metadata": {
        "id": "ZBn_BKM8sw98"
      },
      "execution_count": null,
      "outputs": []
    }
  ]
}