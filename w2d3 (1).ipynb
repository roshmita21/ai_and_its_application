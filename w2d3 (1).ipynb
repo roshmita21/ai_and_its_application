{
  "nbformat": 4,
  "nbformat_minor": 0,
  "metadata": {
    "colab": {
      "provenance": []
    },
    "kernelspec": {
      "name": "python3",
      "display_name": "Python 3"
    },
    "language_info": {
      "name": "python"
    }
  },
  "cells": [
    {
      "cell_type": "markdown",
      "source": [
        "# Hands- On Practice: Probability Basics for AI"
      ],
      "metadata": {
        "id": "rAkQG0PYD0uG"
      }
    },
    {
      "cell_type": "markdown",
      "source": [
        "#Exercise1 : THEORETICAL PROBABILITY"
      ],
      "metadata": {
        "id": "PdkN7gTwFBRP"
      }
    },
    {
      "cell_type": "code",
      "execution_count": null,
      "metadata": {
        "colab": {
          "base_uri": "https://localhost:8080/"
        },
        "id": "5iUWnCeGDs2t",
        "outputId": "2195ef7f-2826-456f-ca7b-f064234a4793"
      },
      "outputs": [
        {
          "output_type": "stream",
          "name": "stdout",
          "text": [
            "Probability of rolling a 6 is: 0.16666666666666666\n"
          ]
        }
      ],
      "source": [
        "# Define total_outcome and favourable_outcome\n",
        "total_outcome = 6     # sides of dice\n",
        "favourable_outcome = 1 # rolling of dice\n",
        "\n",
        "prob = favourable_outcome/ total_outcome\n",
        "print(\"Probability of rolling a 6 is:\",prob)\n"
      ]
    },
    {
      "cell_type": "markdown",
      "source": [
        "#EXERCISE 2: EXPERIMENTAL PROBABILITY"
      ],
      "metadata": {
        "id": "5cLZKSsOGFLR"
      }
    },
    {
      "cell_type": "code",
      "source": [
        "from math import tan\n",
        "import random\n",
        "trials = 100\n",
        "heads = 0\n",
        "for _ in range(trials):\n",
        "  if random.choice([\"Heads\", \"Tails\"])==\"Heads\":\n",
        "   heads += 1\n",
        "probability = heads/trials\n",
        "print(\"Probabilty of heads is :\",probability)"
      ],
      "metadata": {
        "colab": {
          "base_uri": "https://localhost:8080/"
        },
        "id": "KEgviOVbGDbb",
        "outputId": "a141b4a1-213c-4874-cb8c-7bb79dccbf2c"
      },
      "execution_count": null,
      "outputs": [
        {
          "output_type": "stream",
          "name": "stdout",
          "text": [
            "Probabilty of heads is : 0.52\n"
          ]
        }
      ]
    },
    {
      "cell_type": "markdown",
      "source": [
        "## Exercise 3: Conditional Probability"
      ],
      "metadata": {
        "id": "L9AnXFddIBXh"
      }
    },
    {
      "cell_type": "code",
      "source": [
        "face_cards = 12\n",
        "king = 4\n",
        "cond_prob = king/face_cards\n",
        "\n",
        "print(\"The probability of getting a king given it is a face card is:\", cond_prob)"
      ],
      "metadata": {
        "colab": {
          "base_uri": "https://localhost:8080/"
        },
        "id": "6HI9Ln7rG25V",
        "outputId": "2047b1aa-fa5e-44f5-b6ee-0311b603ac47"
      },
      "execution_count": null,
      "outputs": [
        {
          "output_type": "stream",
          "name": "stdout",
          "text": [
            "the probability of getting a king given it is a face card is: 0.3333333333333333\n"
          ]
        }
      ]
    },
    {
      "cell_type": "code",
      "source": [
        "# 4 red balls and 6 blue ball prob that the ball is red given that the ball is not blue\n",
        "red = 4\n",
        "blue = 6\n",
        "total  = red + blue # total balls\n",
        "# conditional B(only red: not blue)\n",
        "P_B = red / total\n",
        "# condition A (red and not blue)\n",
        "P_A_and_B = red/total\n",
        "P_A_given_B = P_A_and_B / P_B\n",
        "print(\"The Probability of getting a red ball is:\", P_A_given_B)"
      ],
      "metadata": {
        "colab": {
          "base_uri": "https://localhost:8080/"
        },
        "id": "TZOimSxHJI-C",
        "outputId": "2eb9bf74-4802-4300-cc47-343928b17a20"
      },
      "execution_count": null,
      "outputs": [
        {
          "output_type": "stream",
          "name": "stdout",
          "text": [
            "The Probability of getting a red ball is: 1.0\n"
          ]
        }
      ]
    },
    {
      "cell_type": "markdown",
      "source": [
        "classwork"
      ],
      "metadata": {
        "id": "vveQG_aXNaFn"
      }
    },
    {
      "cell_type": "code",
      "source": [
        "face_cards = 12\n",
        "king = 4\n",
        "prob_face_card = 12/52\n",
        "prob_king_card = 4 / 52\n",
        "prob_face_given_king = prob_face_card / prob_king_card\n",
        "print(\"The probability of getting a king given it is a face card is:\", prob_king_card)\n",
        "cond_prob = king/face_cards\n",
        "\n",
        "print(\"The probability of getting a king given it is a face card is:\", cond_prob)"
      ],
      "metadata": {
        "colab": {
          "base_uri": "https://localhost:8080/"
        },
        "id": "R9XQPYVVTuDK",
        "outputId": "95d2743b-27e7-4205-ab66-8f77730bc459"
      },
      "execution_count": null,
      "outputs": [
        {
          "output_type": "stream",
          "name": "stdout",
          "text": [
            "The probability of getting a king given it is a face card is: 0.3333333333333333\n"
          ]
        }
      ]
    },
    {
      "cell_type": "code",
      "source": [
        "rained = 30\n",
        "umbrella = 25\n",
        "days = 100\n",
        "P_R = rained / days\n",
        "P_U_R = umbrella / days\n",
        "\n",
        "P_U_given_R= P_U_R / P_R\n",
        "\n",
        "print(\"The probability is :\",P_U_given_R)"
      ],
      "metadata": {
        "colab": {
          "base_uri": "https://localhost:8080/"
        },
        "id": "eMi67dyYMm7t",
        "outputId": "631a900e-c294-47b9-d983-c99b53be9ae4"
      },
      "execution_count": null,
      "outputs": [
        {
          "output_type": "stream",
          "name": "stdout",
          "text": [
            "The probability is : 0.8333333333333334\n"
          ]
        }
      ]
    },
    {
      "cell_type": "code",
      "source": [
        "students =  80\n",
        "studied = 50\n",
        "studied_and_passed = 45\n",
        "p_studied = studied / students\n",
        "p_pass__and_studied = studied_and_passed / students\n",
        "p_passed_given_studied = p_pass__and_studied / p_studied\n",
        "\n",
        "print(\"The probability that they passed given that they studies:\", p_passed_given_studied)"
      ],
      "metadata": {
        "colab": {
          "base_uri": "https://localhost:8080/"
        },
        "id": "RwXFAtCzXbWz",
        "outputId": "32689a65-bc3b-4075-ff0f-36fa123157c1"
      },
      "execution_count": null,
      "outputs": [
        {
          "output_type": "stream",
          "name": "stdout",
          "text": [
            "The probability that they passed given that they studies: 0.9\n"
          ]
        }
      ]
    },
    {
      "cell_type": "code",
      "source": [
        "total = 100\n",
        "yellow = 60\n",
        "new_yellow = 40\n",
        "#probability of yellow\n",
        "P_Yellow = yellow/total\n",
        "#probability of new and yellow\n",
        "P_New_Yellow = new_yellow / total\n",
        "# probability that the ball is new given that it is yellow\n",
        "P_New_and_Yellow = P_New_Yellow / P_Yellow\n",
        "print(\"The probability that the ball is new given that it is yellow:\",P_New_and_Yellow)"
      ],
      "metadata": {
        "colab": {
          "base_uri": "https://localhost:8080/"
        },
        "id": "v7JCeh_9UqKx",
        "outputId": "15ee3e57-9673-40e5-e788-1c93e5eb47a4"
      },
      "execution_count": null,
      "outputs": [
        {
          "output_type": "stream",
          "name": "stdout",
          "text": [
            "The probability that the ball is new given that it is yellow: 0.6666666666666667\n"
          ]
        }
      ]
    },
    {
      "cell_type": "markdown",
      "source": [
        "### Exercise 4 : Addition Rule"
      ],
      "metadata": {
        "id": "pUY2G49tbUR0"
      }
    },
    {
      "cell_type": "code",
      "source": [
        "# mutually exclusive event\n",
        "prob_even = 3/6\n",
        "prob_one = 1/6\n",
        "prob_even_or_one = prob_even + prob_one\n",
        "print(\"The probability of getting an even or one is :\",prob_even_or_one)\n",
        "\n",
        "# and = *\n",
        "# or = +"
      ],
      "metadata": {
        "colab": {
          "base_uri": "https://localhost:8080/"
        },
        "id": "KfgxVUzcbNF3",
        "outputId": "a21a26eb-d0b5-48ee-bc2c-19423e522370"
      },
      "execution_count": null,
      "outputs": [
        {
          "output_type": "stream",
          "name": "stdout",
          "text": [
            "The probability of getting an even or one is : 0.6666666666666666\n"
          ]
        }
      ]
    },
    {
      "cell_type": "code",
      "source": [
        "prob_heart = 13/52\n",
        "prob_club = 13/52\n",
        "prob_heart_or_club = prob_heart + prob_club\n",
        "print(\"The probability of drawing a heart or a club from a deck is :\", prob_heart_or_club)"
      ],
      "metadata": {
        "colab": {
          "base_uri": "https://localhost:8080/"
        },
        "id": "LAopD_7odD1W",
        "outputId": "bf732dd2-4992-4b16-ca7c-2c4996334067"
      },
      "execution_count": null,
      "outputs": [
        {
          "output_type": "stream",
          "name": "stdout",
          "text": [
            "The probability of drawing a heart or a club from a deck is : 0.5\n"
          ]
        }
      ]
    },
    {
      "cell_type": "markdown",
      "source": [
        "#Exercise 5: Multiplication Rule(Independent Events)"
      ],
      "metadata": {
        "id": "yqghaT8jf2OB"
      }
    },
    {
      "cell_type": "code",
      "source": [
        "prob_head = 0.5\n",
        "#prob of getting heads two times in a row\n",
        "prob_two_heads = prob_head * prob_head\n",
        "print(\"Probability of getting two heads in two tosses:\", prob_two_heads)"
      ],
      "metadata": {
        "colab": {
          "base_uri": "https://localhost:8080/"
        },
        "id": "kmRElw5Qdgt9",
        "outputId": "5dee42b2-0c57-4218-adb1-9268a1e4c5ca"
      },
      "execution_count": null,
      "outputs": [
        {
          "output_type": "stream",
          "name": "stdout",
          "text": [
            "Probability of getting two heads in two tosses: 0.25\n"
          ]
        }
      ]
    },
    {
      "cell_type": "code",
      "source": [
        "# task 5: Prob of rolling 6 twice in a row\n",
        "prob_six = 1/6\n",
        "prob_two_6 = prob_six * prob_six\n",
        "print(\"Probability of getting 6 twice in a row:\",prob_two_6)"
      ],
      "metadata": {
        "colab": {
          "base_uri": "https://localhost:8080/"
        },
        "id": "ZQ7uduiwhGLJ",
        "outputId": "7c99cd7e-ddf6-4bdf-ec1e-2aba02b3617d"
      },
      "execution_count": null,
      "outputs": [
        {
          "output_type": "stream",
          "name": "stdout",
          "text": [
            "Probability of getting 6 twice in a row: 0.027777777777777776\n"
          ]
        }
      ]
    },
    {
      "cell_type": "code",
      "source": [
        "#probability of getting head on a coin toss and 7 on a 6-sided die roll\n",
        "prob_head = 0.5\n",
        "prob_seven = 0/6\n",
        "prob_head_and_7 = prob_head * prob_seven\n",
        "print(\"The prob of head and 7 is:\",prob_head_and_7)"
      ],
      "metadata": {
        "colab": {
          "base_uri": "https://localhost:8080/"
        },
        "id": "87T3aiFWhnSh",
        "outputId": "818801c9-4387-43a9-e993-6026593dad94"
      },
      "execution_count": null,
      "outputs": [
        {
          "output_type": "stream",
          "name": "stdout",
          "text": [
            "The prob of head and 7 is: 0.0\n"
          ]
        }
      ]
    },
    {
      "cell_type": "markdown",
      "source": [
        "Exercise 6: Dependent Events"
      ],
      "metadata": {
        "id": "19s-NYtFjcVW"
      }
    },
    {
      "cell_type": "code",
      "source": [
        "# lets calculate the probability of drawing two aces and without replacement from a deck of 52 cards.\n",
        "total_cards = 52\n",
        "ace = 4\n",
        "prob_ace = ace/total_cards\n",
        "prob_first_ace = ace / total_cards\n",
        "prob_second_ace = (ace-1)/(total_cards-1)\n",
        "with_replacement = prob_first_ace * prob_second_ace\n",
        "without_replacement = prob_ace * prob_ace\n",
        "print(\"The prob of drawing two aces without replacement:\",with_replacement)\n",
        "print(\"The prob of drawing two aces with replacement:\",without_replacement)"
      ],
      "metadata": {
        "colab": {
          "base_uri": "https://localhost:8080/"
        },
        "id": "PZjceCbijYr9",
        "outputId": "4ab6ee76-0a81-4189-cf52-33eba49b33c2"
      },
      "execution_count": null,
      "outputs": [
        {
          "output_type": "stream",
          "name": "stdout",
          "text": [
            "The prob of drawing two aces without replacement: 0.004524886877828055\n",
            "The prob of drawing two aces with replacement: 0.00591715976331361\n"
          ]
        }
      ]
    },
    {
      "cell_type": "code",
      "source": [],
      "metadata": {
        "id": "nNthaAAflL7g"
      },
      "execution_count": null,
      "outputs": []
    }
  ]
}