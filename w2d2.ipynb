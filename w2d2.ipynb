{
  "nbformat": 4,
  "nbformat_minor": 0,
  "metadata": {
    "colab": {
      "provenance": []
    },
    "kernelspec": {
      "name": "python3",
      "display_name": "Python 3"
    },
    "language_info": {
      "name": "python"
    }
  },
  "cells": [
    {
      "cell_type": "markdown",
      "source": [
        "##Hands on practice : Linear Algebra for AI"
      ],
      "metadata": {
        "id": "76xflnQP-kHb"
      }
    },
    {
      "cell_type": "markdown",
      "source": [
        "###Exercise 1 :Working with Scalars and Vectors"
      ],
      "metadata": {
        "id": "jOxGalvK-aRm"
      }
    },
    {
      "cell_type": "code",
      "execution_count": null,
      "metadata": {
        "colab": {
          "base_uri": "https://localhost:8080/"
        },
        "id": "JSTApgcW-ICY",
        "outputId": "d59a4a14-c9fc-48bd-ea9d-01ef506b8edf"
      },
      "outputs": [
        {
          "output_type": "stream",
          "name": "stdout",
          "text": [
            "Vector: [3 5 7]\n",
            "Scaled vector :  [21 35 49]\n"
          ]
        }
      ],
      "source": [
        "import numpy as np\n",
        "#creating a scalar\n",
        "scalar = 7\n",
        "#creating a vector\n",
        "vector = np.array([3,5,7])\n",
        "print(\"Vector:\",vector)\n",
        "\n",
        "#Scaling vector through a scalar aka scaled vector\n",
        "scaled_vector = scalar * vector\n",
        "print('Scaled vector : ',scaled_vector)"
      ]
    },
    {
      "cell_type": "markdown",
      "source": [
        "Exercise 2 addition and subtraction"
      ],
      "metadata": {
        "id": "fkHSqjXpFRw6"
      }
    },
    {
      "cell_type": "code",
      "source": [
        "import numpy as np\n",
        "vector1 = np.array([3,6,9])\n",
        "vector2 = np.array([3,4,5])\n",
        "res = vector1 + vector2\n",
        "result = vector1 - vector2\n",
        "print(\"The addition res is :\",res)\n",
        "print(\"The subtraction result is : \", result)"
      ],
      "metadata": {
        "colab": {
          "base_uri": "https://localhost:8080/"
        },
        "id": "tnQSY7ovEgyO",
        "outputId": "05c48e77-656e-430d-8b7b-dba160fcba5a"
      },
      "execution_count": null,
      "outputs": [
        {
          "output_type": "stream",
          "name": "stdout",
          "text": [
            "The addition res is : [ 6 10 14]\n",
            "The subtraction result is :  [0 2 4]\n"
          ]
        }
      ]
    },
    {
      "cell_type": "markdown",
      "source": [
        "Exercise 3:Matrix Creation and Basic Operation"
      ],
      "metadata": {
        "id": "Ed_LAxcPFYvJ"
      }
    },
    {
      "cell_type": "code",
      "source": [
        "import numpy as np\n",
        "matrix1 = np.array([[2,4],[5,7]])\n",
        "matrix2 = np.array([[6,8],[9,11]])\n",
        "add = matrix1 + matrix2\n",
        "print(\"The addition result is:\",add)\n",
        "print(\"The sub is \", matrix1 - matrix2)\n",
        "print(\"The matrix is :\", matrix1)"
      ],
      "metadata": {
        "colab": {
          "base_uri": "https://localhost:8080/"
        },
        "id": "jb32ss_dFOU3",
        "outputId": "c42df528-5136-4ba9-f457-c96149069b40"
      },
      "execution_count": null,
      "outputs": [
        {
          "output_type": "stream",
          "name": "stdout",
          "text": [
            "The addition result is: [[ 8 12]\n",
            " [14 18]]\n",
            "The matrix is : [[2 4]\n",
            " [5 7]]\n"
          ]
        }
      ]
    },
    {
      "cell_type": "code",
      "source": [
        "import numpy as np\n",
        "matrix1 = np.array([[1,2,3],[1,1,1],[4,4,4]])\n",
        "matrix2 = np.array([[1,5,2],[4,2,3],[1,1,3]])\n",
        "res = np.dot(matrix1,matrix2)\n",
        "print(res)"
      ],
      "metadata": {
        "colab": {
          "base_uri": "https://localhost:8080/"
        },
        "id": "znJxOc90F8_V",
        "outputId": "28fc84d7-3b26-4504-d231-7bb083c07c7b"
      },
      "execution_count": null,
      "outputs": [
        {
          "output_type": "stream",
          "name": "stdout",
          "text": [
            "[[12 12 17]\n",
            " [ 6  8  8]\n",
            " [24 32 32]]\n"
          ]
        }
      ]
    },
    {
      "cell_type": "code",
      "source": [
        "import numpy as np\n",
        "mat1 = np.array([[1,3],[9,3]])\n",
        "result = np.dot(mat1,mat1)\n",
        "print(result)"
      ],
      "metadata": {
        "colab": {
          "base_uri": "https://localhost:8080/"
        },
        "id": "MrgH6D-XJ-2N",
        "outputId": "1f0aaea2-4f65-4b11-adb9-16ea143d5276"
      },
      "execution_count": null,
      "outputs": [
        {
          "output_type": "stream",
          "name": "stdout",
          "text": [
            "[[28 12]\n",
            " [36 36]]\n"
          ]
        }
      ]
    },
    {
      "cell_type": "code",
      "source": [
        "m1 = np.array([[2,4],[5,7]])\n",
        "m2 = np.array([[2,3],[2,2]])\n",
        "a = (m1[0,0] * m2[0,0])+(m1[0,1] * m2[1,0])\n",
        "b = (m1[0,0]* m2[0,1])+(m1[0,1]*m2[1,1])\n",
        "c = (m1[1,0]*m2[0,0]) + (m1[1,1]*m2[1,0])\n",
        "d = (m1[1,0]*m2[0,1])+ (m1[1,1]*m2[1,1])\n",
        "print(a)\n",
        "print(b)\n",
        "print(c)\n",
        "print(d)\n",
        "result = np.dot(m1,m2)\n",
        "print(\"The dot product is : \",result)"
      ],
      "metadata": {
        "colab": {
          "base_uri": "https://localhost:8080/"
        },
        "id": "E5qSjOsALGsP",
        "outputId": "1007377c-a07d-4668-9878-5d41629de257"
      },
      "execution_count": null,
      "outputs": [
        {
          "output_type": "stream",
          "name": "stdout",
          "text": [
            "12\n",
            "14\n",
            "24\n",
            "29\n",
            "The dot product is :  [[12 14]\n",
            " [24 29]]\n"
          ]
        }
      ]
    },
    {
      "cell_type": "markdown",
      "source": [
        "Exercise 5: Identity matrix and transpose"
      ],
      "metadata": {
        "id": "hpTkXXNLQfid"
      }
    },
    {
      "cell_type": "code",
      "source": [
        "import numpy as np\n",
        "identity = np.eye(2)\n",
        "print(identity)\n",
        "# transpose\n",
        "m1 = np.array([[2,4],[5,7]])\n",
        "transpose = m1.T\n",
        "print(transpose)\n",
        "\n",
        "print(m1)\n",
        "\n",
        "a = m1[0,0] , m1[1,0]\n",
        "# b = m1[1,0]\n",
        "c = m1[0,1] , m1[1,1]\n",
        "# d = m1[1,1]\n",
        "print(a)\n",
        "\n",
        "print(c)\n"
      ],
      "metadata": {
        "colab": {
          "base_uri": "https://localhost:8080/"
        },
        "id": "geO5O7OdMbXL",
        "outputId": "522e177a-07eb-466a-dcd6-c804a8965561"
      },
      "execution_count": null,
      "outputs": [
        {
          "output_type": "stream",
          "name": "stdout",
          "text": [
            "[[1. 0.]\n",
            " [0. 1.]]\n",
            "[[2 5]\n",
            " [4 7]]\n",
            "[[2 4]\n",
            " [5 7]]\n",
            "(np.int64(2), np.int64(5))\n",
            "(np.int64(4), np.int64(7))\n"
          ]
        }
      ]
    },
    {
      "cell_type": "code",
      "source": [
        "matrix1=np.array([[2,4],[5,7]])\n",
        "\n",
        "print(np.linalg.inv(matrix1))\n",
        "inverse=np.linalg.inv(matrix1)\n",
        "mat_inv=np.dot(matrix1,inverse)\n",
        "print(mat_inv)"
      ],
      "metadata": {
        "colab": {
          "base_uri": "https://localhost:8080/"
        },
        "id": "KFcODVBmQOXp",
        "outputId": "ed1de0c5-9a79-4a08-ac48-065fdc3a96e8"
      },
      "execution_count": null,
      "outputs": [
        {
          "output_type": "stream",
          "name": "stdout",
          "text": [
            "[[-1.16666667  0.66666667]\n",
            " [ 0.83333333 -0.33333333]]\n",
            "[[1.0000000e+00 0.0000000e+00]\n",
            " [4.4408921e-16 1.0000000e+00]]\n"
          ]
        }
      ]
    },
    {
      "cell_type": "code",
      "source": [],
      "metadata": {
        "id": "o0EJ6ONsTnZM"
      },
      "execution_count": null,
      "outputs": []
    }
  ]
}