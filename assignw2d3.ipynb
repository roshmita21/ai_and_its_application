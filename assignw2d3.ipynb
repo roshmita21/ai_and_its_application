{
  "nbformat": 4,
  "nbformat_minor": 0,
  "metadata": {
    "colab": {
      "provenance": []
    },
    "kernelspec": {
      "name": "python3",
      "display_name": "Python 3"
    },
    "language_info": {
      "name": "python"
    }
  },
  "cells": [
    {
      "cell_type": "code",
      "execution_count": null,
      "metadata": {
        "id": "Gvt931qYn1of",
        "colab": {
          "base_uri": "https://localhost:8080/"
        },
        "outputId": "d374716b-9d6b-4dd2-81b4-cde313965477"
      },
      "outputs": [
        {
          "output_type": "stream",
          "name": "stdout",
          "text": [
            "The probability of drawing a red card : 0.5\n"
          ]
        }
      ],
      "source": [
        "# Task 1: Calculate the theoretical probability of drawing a red card from a\n",
        "# standard deck of 52 cards (26 red cards). Print the result.\n",
        "total = 52\n",
        "red_cards = 26\n",
        "p_red= red_cards/total\n",
        "print('The probability of drawing a red card :',p_red )"
      ]
    },
    {
      "cell_type": "code",
      "source": [
        "# Task 2: Simulate rolling a six-sided die 50 times and calculate the experimen-\n",
        "# tal probability of rolling a 4. Print the result.\n",
        "import random\n",
        "trials = 50\n",
        "count_4 = 0\n",
        "for _ in range(trials):\n",
        "    if random.randint(1, 6) == 4:\n",
        "        count_4 += 1\n",
        "probability = count_4 / trials\n",
        "print(\"Experimental probability of rolling a 4 is:\", probability)\n"
      ],
      "metadata": {
        "id": "imocJsj8n4mF",
        "colab": {
          "base_uri": "https://localhost:8080/"
        },
        "outputId": "52ff063f-0a1d-41f7-f7d6-9e437dc672d5"
      },
      "execution_count": null,
      "outputs": [
        {
          "output_type": "stream",
          "name": "stdout",
          "text": [
            "Experimental probability of rolling a 4 is: 0.2\n"
          ]
        }
      ]
    },
    {
      "cell_type": "code",
      "source": [
        "|# Task 4: Calculate the probability of drawing a heart or a club from a deck (13\n",
        "# hearts, 13 clubs, mutually exclusive). Print the result.\n",
        "prob_heart = 13/52\n",
        "prob_club = 13/52\n",
        "prob_heart_or_club = prob_heart + prob_club\n",
        "print(\"The probability of drawing a heart or a club from a deck is :\", prob_heart_or_club)"
      ],
      "metadata": {
        "id": "Yp2Ys2wLn8vo"
      },
      "execution_count": null,
      "outputs": []
    },
    {
      "cell_type": "code",
      "source": [
        "# Task 5: Calculate the probability of rolling a 6 twice in a row with a six-sided\n",
        "# die. Print the result.\n",
        "prob_six = 1/6\n",
        "prob_two_6 = prob_six * prob_six\n",
        "print(\"Probability of getting 6 twice in a row:\",prob_two_6)"
      ],
      "metadata": {
        "id": "nBJDhM-2oE5U"
      },
      "execution_count": null,
      "outputs": []
    },
    {
      "cell_type": "code",
      "source": [
        "# Task 6: Calculate the probability of drawing two red cards without replace-\n",
        "# ment from a deck (26 red cards, 52 total). Print the result.\n",
        "total_cards = 52\n",
        "red = 26\n",
        "prob_red = red/total_cards\n",
        "prob_first_red = red / total_cards\n",
        "prob_second_red = (red-1)/(total_cards-1)\n",
        "with_replacement = prob_first_red * prob_second_red\n",
        "without_replacement = prob_red * prob_red\n",
        "print(\"The prob of drawing two red without replacement:\",with_replacement)\n",
        "print(\"The prob of drawing two red with replacement:\",without_replacement)"
      ],
      "metadata": {
        "id": "TvYz3c-roNmA",
        "colab": {
          "base_uri": "https://localhost:8080/"
        },
        "outputId": "61eebf7c-7fd5-45e0-fee1-469f2cbf19c5"
      },
      "execution_count": null,
      "outputs": [
        {
          "output_type": "stream",
          "name": "stdout",
          "text": [
            "The prob of drawing two red without replacement: 0.24509803921568626\n",
            "The prob of drawing two red with replacement: 0.25\n"
          ]
        }
      ]
    },
    {
      "cell_type": "code",
      "source": [],
      "metadata": {
        "id": "Tq1_Zlqmelv1"
      },
      "execution_count": null,
      "outputs": []
    }
  ]
}