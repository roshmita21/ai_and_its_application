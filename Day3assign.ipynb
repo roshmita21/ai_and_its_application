{
  "nbformat": 4,
  "nbformat_minor": 0,
  "metadata": {
    "colab": {
      "provenance": []
    },
    "kernelspec": {
      "name": "python3",
      "display_name": "Python 3"
    },
    "language_info": {
      "name": "python"
    }
  },
  "cells": [
    {
      "cell_type": "markdown",
      "source": [
        "1"
      ],
      "metadata": {
        "id": "Mn1A54s-a1az"
      }
    },
    {
      "cell_type": "code",
      "execution_count": null,
      "metadata": {
        "colab": {
          "base_uri": "https://localhost:8080/"
        },
        "id": "btxNMxNoaxKs",
        "outputId": "8f7f3a7c-dcd7-4625-e0b0-5cd395fb1ebe"
      },
      "outputs": [
        {
          "output_type": "stream",
          "name": "stdout",
          "text": [
            "executed successfully\n"
          ]
        }
      ],
      "source": [
        "# with open(\"input.txt\",\"w\") as f:\n",
        "#    f.write(\"Hello\")\n",
        "#    f.write(\"\\nHow are you\")\n",
        "#    f.write(\"\\nBye\")\n",
        "\n",
        "try:\n",
        "    with open(\"input.txt\", \"r\") as f:\n",
        "        a = f.read()\n",
        "    with open(\"output.txt\", \"w\") as file:\n",
        "        file.write(a)\n",
        "except FileNotFoundError:\n",
        "    print(\"File does not exist\")\n",
        "finally:\n",
        "    print(\"executed successfully\")\n",
        "\n"
      ]
    },
    {
      "cell_type": "markdown",
      "source": [
        "2"
      ],
      "metadata": {
        "id": "l1KMj8rycQBO"
      }
    },
    {
      "cell_type": "code",
      "source": [
        "try:\n",
        "    with open(\"data.txt\", \"r\") as f:\n",
        "       c = len(f.readlines())\n",
        "    if c == 0:\n",
        "        print(\"The file is empty\")\n",
        "    else:\n",
        "        print(\"The total line count is\",c)\n",
        "\n",
        "    with open(\"line_count.txt\", \"w\") as file:\n",
        "        file.write(str(c))\n",
        "\n",
        "except FileNotFoundError:\n",
        "    print(\"The file 'data.txt' doesnot exist\")\n",
        "finally :\n",
        "    print(\"Executed successfully\")\n",
        "\n"
      ],
      "metadata": {
        "colab": {
          "base_uri": "https://localhost:8080/"
        },
        "id": "4CqEu4zycPIV",
        "outputId": "04084e10-8ca4-4992-8b90-944f845acd3a"
      },
      "execution_count": null,
      "outputs": [
        {
          "output_type": "stream",
          "name": "stdout",
          "text": [
            "The total line count is 2\n"
          ]
        }
      ]
    },
    {
      "cell_type": "code",
      "source": [],
      "metadata": {
        "id": "tcdAJj6_cw5l"
      },
      "execution_count": null,
      "outputs": []
    }
  ]
}