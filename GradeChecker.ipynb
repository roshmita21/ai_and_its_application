{
  "nbformat": 4,
  "nbformat_minor": 0,
  "metadata": {
    "colab": {
      "provenance": []
    },
    "kernelspec": {
      "name": "python3",
      "display_name": "Python 3"
    },
    "language_info": {
      "name": "python"
    }
  },
  "cells": [
    {
      "cell_type": "code",
      "execution_count": null,
      "metadata": {
        "colab": {
          "base_uri": "https://localhost:8080/"
        },
        "id": "NFUxP2MPTvca",
        "outputId": "be3e2c71-9996-42f2-d602-bf13cf6a07ba"
      },
      "outputs": [
        {
          "output_type": "stream",
          "name": "stdout",
          "text": [
            "Enter your score for Math (0-100): 12\n",
            "[Math] You have failed\n",
            "Enter your score for English (0-100): 34\n",
            "[English] You have failed\n",
            "Enter your score for Science (0-100): 67\n",
            "[Science] Your grade is: C+\n",
            "Enter your score for History (0-100): 78\n",
            "[History] Your grade is: B+\n",
            "Enter your score for Computer (0-100): 88\n",
            "[Computer] Your grade is: A\n"
          ]
        }
      ],
      "source": [
        "def grade_checker(score, subject):\n",
        "    if score < 0 or score > 100:\n",
        "        print(f\"[{subject}] Please enter a valid score between 0 and 100\")\n",
        "        return\n",
        "    if score >= 90:\n",
        "        print(f\"[{subject}] Your grade is: A+/out\")\n",
        "    elif score >= 80:\n",
        "        print(f\"[{subject}] Your grade is: A\")\n",
        "    elif score >= 75:\n",
        "        print(f\"[{subject}] Your grade is: B+\")\n",
        "    elif score >= 70:\n",
        "        print(f\"[{subject}] Your grade is: B\")\n",
        "    elif score >= 65:\n",
        "        print(f\"[{subject}] Your grade is: C+\")\n",
        "    elif score >= 60:\n",
        "        print(f\"[{subject}] Your grade is: C\")\n",
        "    elif score >= 50:\n",
        "        print(f\"[{subject}] Your grade is: D+\")\n",
        "    elif score >= 40:\n",
        "        print(f\"[{subject}] Your grade is: D\")\n",
        "    else:\n",
        "        print(f\"[{subject}] You have failed\")\n",
        "\n",
        "\n",
        "subjects = [\"Math\", \"English\", \"Science\", \"History\", \"Computer\"]\n",
        "\n",
        "for subject in subjects:\n",
        "    score_input = input(f\"Score for {subject} (0-100): \")\n",
        "    try:\n",
        "        score = float(score_input)\n",
        "        grade_checker(score, subject)\n",
        "    except ValueError:\n",
        "        print(f\"{subject}: Please enter a number.\")"
      ]
    }
  ]
}