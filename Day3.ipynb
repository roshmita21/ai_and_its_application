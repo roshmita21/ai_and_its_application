{
  "nbformat": 4,
  "nbformat_minor": 0,
  "metadata": {
    "colab": {
      "provenance": []
    },
    "kernelspec": {
      "name": "python3",
      "display_name": "Python 3"
    },
    "language_info": {
      "name": "python"
    }
  },
  "cells": [
    {
      "cell_type": "markdown",
      "source": [
        "\n",
        "FILE HANDLING AND EXCEPTION"
      ],
      "metadata": {
        "id": "Jm8BGZIFLxHt"
      }
    },
    {
      "cell_type": "markdown",
      "source": [
        "OPENING AND READING A FILE"
      ],
      "metadata": {
        "id": "jdoI_6F3L2po"
      }
    },
    {
      "cell_type": "code",
      "execution_count": null,
      "metadata": {
        "colab": {
          "base_uri": "https://localhost:8080/"
        },
        "id": "EhNuTQbmLk88",
        "outputId": "4a775b96-0c9f-4d92-8533-4d1d6a5b403e"
      },
      "outputs": [
        {
          "output_type": "stream",
          "name": "stdout",
          "text": [
            "Hello Rosh\n"
          ]
        }
      ],
      "source": [
        "f = open(\"sample.txt\",\"r\")\n",
        "print(f.read())\n",
        "#A good practice to close a file with close() method /function\n",
        "f.close()\n"
      ]
    },
    {
      "cell_type": "code",
      "source": [
        "f = open(\"sample.txt\",\"r\")\n",
        "print(f.readline())\n",
        "# f = open(\"sample.txt\",\"r\")\n",
        "print(f.readline())"
      ],
      "metadata": {
        "colab": {
          "base_uri": "https://localhost:8080/"
        },
        "id": "oL0ILWtoMmIy",
        "outputId": "f6d8697a-8124-4dfc-eba5-2180555d5843"
      },
      "execution_count": null,
      "outputs": [
        {
          "output_type": "stream",
          "name": "stdout",
          "text": [
            "Hello Rosh\n",
            "\n",
            "hello how are you doing it is\n",
            "\n"
          ]
        }
      ]
    },
    {
      "cell_type": "code",
      "source": [
        "f = open(\"sample.txt\",\"r\")\n",
        "print(f.read(8))\n",
        "f.close()"
      ],
      "metadata": {
        "colab": {
          "base_uri": "https://localhost:8080/"
        },
        "id": "a_w6WlW4Qp77",
        "outputId": "a691864d-1add-4e6b-c876-c83c50d01314"
      },
      "execution_count": null,
      "outputs": [
        {
          "output_type": "stream",
          "name": "stdout",
          "text": [
            "Python i\n"
          ]
        }
      ]
    },
    {
      "cell_type": "markdown",
      "source": [
        "WITH OPERATION"
      ],
      "metadata": {
        "id": "02Og05m5RgYT"
      }
    },
    {
      "cell_type": "code",
      "source": [
        "with open(\"sample.txt\",\"r\") as file:\n",
        "  print(file.read())"
      ],
      "metadata": {
        "id": "SBEGMexXRbxQ"
      },
      "execution_count": null,
      "outputs": []
    },
    {
      "cell_type": "markdown",
      "source": [
        "WRITING TO A FILE"
      ],
      "metadata": {
        "id": "7eBJbUPMOMkQ"
      }
    },
    {
      "cell_type": "code",
      "source": [
        "# existing file\n",
        "f = open(\"sample.txt\",\"w\")\n",
        "f.write(\"Python is great for AI\")\n",
        "f.close()"
      ],
      "metadata": {
        "colab": {
          "base_uri": "https://localhost:8080/"
        },
        "id": "8c1pDMqCNXhg",
        "outputId": "d379fe4a-0851-4247-e508-e40808f3c14b"
      },
      "execution_count": null,
      "outputs": [
        {
          "output_type": "execute_result",
          "data": {
            "text/plain": [
              "22"
            ]
          },
          "metadata": {},
          "execution_count": 8
        }
      ]
    },
    {
      "cell_type": "code",
      "source": [
        "# non existing file\n",
        "f = open(\"new.txt\",\"w\")\n",
        "f.write(\"Creating file that does not exists\")\n",
        "f.close()"
      ],
      "metadata": {
        "id": "NJQAFzjQOvuH"
      },
      "execution_count": null,
      "outputs": []
    },
    {
      "cell_type": "markdown",
      "source": [
        "APPENDING TO A FILE"
      ],
      "metadata": {
        "id": "MjHyRmGfP2ks"
      }
    },
    {
      "cell_type": "code",
      "source": [
        "f = open(\"new.txt\",\"a\")\n",
        "#\\n is used here to print the content in new line\n",
        "f.write(\"\\n I am appended now\")\n",
        "f.close()"
      ],
      "metadata": {
        "id": "0mw9kC5zPhDl"
      },
      "execution_count": null,
      "outputs": []
    },
    {
      "cell_type": "markdown",
      "source": [
        "DELETING A FILE"
      ],
      "metadata": {
        "id": "4lXwNkMCSQDA"
      }
    },
    {
      "cell_type": "code",
      "source": [
        "# importing os module\n",
        "import os\n",
        "os.remove(\"sample.txt\") # removes our file"
      ],
      "metadata": {
        "id": "_pjxoMSLQNh5"
      },
      "execution_count": null,
      "outputs": []
    },
    {
      "cell_type": "code",
      "source": [
        "import os\n",
        "os.rmdir(\"/content/delete_me\")# to remove folder rmdir -remove directory"
      ],
      "metadata": {
        "id": "yuFghqTySmyG"
      },
      "execution_count": null,
      "outputs": []
    },
    {
      "cell_type": "markdown",
      "source": [
        "BASIC EXCEPTION HANDLING"
      ],
      "metadata": {
        "id": "uJ-Xjp-QTcKS"
      }
    },
    {
      "cell_type": "code",
      "source": [
        "print(a)\n",
        "#an error occurs"
      ],
      "metadata": {
        "colab": {
          "base_uri": "https://localhost:8080/",
          "height": 158
        },
        "id": "bOt1pQsSUCYf",
        "outputId": "ad0a370b-b4d5-40c6-83a5-7e339cb06936"
      },
      "execution_count": null,
      "outputs": [
        {
          "output_type": "error",
          "ename": "NameError",
          "evalue": "name 'a' is not defined",
          "traceback": [
            "\u001b[0;31m---------------------------------------------------------------------------\u001b[0m",
            "\u001b[0;31mNameError\u001b[0m                                 Traceback (most recent call last)",
            "\u001b[0;32m<ipython-input-13-4a78aef427a4>\u001b[0m in \u001b[0;36m<cell line: 0>\u001b[0;34m()\u001b[0m\n\u001b[0;32m----> 1\u001b[0;31m \u001b[0mprint\u001b[0m\u001b[0;34m(\u001b[0m\u001b[0ma\u001b[0m\u001b[0;34m)\u001b[0m\u001b[0;34m\u001b[0m\u001b[0;34m\u001b[0m\u001b[0m\n\u001b[0m\u001b[1;32m      2\u001b[0m \u001b[0;31m#an error occurs\u001b[0m\u001b[0;34m\u001b[0m\u001b[0;34m\u001b[0m\u001b[0m\n",
            "\u001b[0;31mNameError\u001b[0m: name 'a' is not defined"
          ]
        }
      ]
    },
    {
      "cell_type": "code",
      "source": [
        "a=6\n",
        "try:\n",
        "  print(a)\n",
        "except NameError:\n",
        "  print(\"Variable is not defined\")\n",
        "except TypeError:\n",
        "  print(\"An error has occured\")\n"
      ],
      "metadata": {
        "colab": {
          "base_uri": "https://localhost:8080/"
        },
        "id": "9uLKWAXoTiEZ",
        "outputId": "71806ead-4856-447b-c7f0-3fcb8cd3605c"
      },
      "execution_count": null,
      "outputs": [
        {
          "output_type": "stream",
          "name": "stdout",
          "text": [
            "An error has occured\n"
          ]
        }
      ]
    },
    {
      "cell_type": "code",
      "source": [],
      "metadata": {
        "id": "poL-U_crUHXH"
      },
      "execution_count": null,
      "outputs": []
    }
  ]
}