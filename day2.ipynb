{
  "nbformat": 4,
  "nbformat_minor": 0,
  "metadata": {
    "colab": {
      "provenance": []
    },
    "kernelspec": {
      "name": "python3",
      "display_name": "Python 3"
    },
    "language_info": {
      "name": "python"
    }
  },
  "cells": [
    {
      "cell_type": "markdown",
      "source": [
        "#**Day-2 Practical**"
      ],
      "metadata": {
        "id": "F7qDCBEXndZX"
      }
    },
    {
      "cell_type": "code",
      "execution_count": null,
      "metadata": {
        "id": "tpsTF229m9NO"
      },
      "outputs": [],
      "source": [
        "print(\"Python is easy\")"
      ]
    },
    {
      "cell_type": "markdown",
      "source": [
        "#List in python"
      ],
      "metadata": {
        "id": "6KtflJ9do8Ow"
      }
    },
    {
      "cell_type": "code",
      "source": [
        "# creating a list called 'fruits'\n",
        "fruits = [\"apple\",\"banana\",\"mango\",\"strawberry\",\"litchi\"]\n",
        "#print the list\n",
        "# print(fruits)\n",
        "# print(fruits[0]) #printing first element from the list\n",
        "# print(fruits[4])\n",
        "# print(fruits[-1])\n",
        "\n",
        "#addming and removing elements\n",
        "fruits.append(\"jackfruit\")#Adding element\n",
        "print(fruits)\n",
        "fruits.remove(\"litchi\")\n",
        "print(fruits)\n",
        "\n",
        "# slicing the list\n",
        "print(fruits[1:4])"
      ],
      "metadata": {
        "colab": {
          "base_uri": "https://localhost:8080/"
        },
        "id": "XUQyEUico7Wi",
        "outputId": "4453f148-6399-4b52-d2f2-88ca47135ccd"
      },
      "execution_count": 8,
      "outputs": [
        {
          "output_type": "stream",
          "name": "stdout",
          "text": [
            "['apple', 'banana', 'mango', 'strawberry', 'litchi', 'jackfruit']\n",
            "['apple', 'banana', 'mango', 'strawberry', 'jackfruit']\n",
            "['banana', 'mango', 'strawberry']\n"
          ]
        }
      ]
    },
    {
      "cell_type": "markdown",
      "source": [
        "DICTIONARIES IN PYTHON"
      ],
      "metadata": {
        "id": "5Ra2vL30sJ8E"
      }
    },
    {
      "cell_type": "code",
      "source": [
        "# creating a dictionary\n",
        "student={\n",
        "    \"name\":\"Ram\",\n",
        "    \"age\": 13,\n",
        "    \"class\": 8\n",
        "}\n",
        "print(student)\n",
        "\n",
        "#accessing value of a particular key in a dictionary\n",
        "print(student[\"class\"])\n",
        "\n",
        "#updating value of a particulary key in dictionary\n",
        "student[\"class\"] = 9\n",
        "print(student)\n",
        "\n",
        "#adding a new key value pair to the existing dictionary\n",
        "student[\"address\"] =\"Pokhara\"\n",
        "print(student)\n",
        "\n",
        "del student[\"age\"]\n",
        "print(student)\n"
      ],
      "metadata": {
        "colab": {
          "base_uri": "https://localhost:8080/"
        },
        "id": "e630Ce6CpWvb",
        "outputId": "3d3ca635-c9dc-4e89-9916-904091ae0161"
      },
      "execution_count": 11,
      "outputs": [
        {
          "output_type": "stream",
          "name": "stdout",
          "text": [
            "{'name': 'Ram', 'age': 13, 'class': 8}\n",
            "8\n",
            "{'name': 'Ram', 'age': 13, 'class': 9}\n",
            "{'name': 'Ram', 'age': 13, 'class': 9, 'address': 'Pokhara'}\n"
          ]
        }
      ]
    },
    {
      "cell_type": "markdown",
      "source": [
        "STRING MANIPULATION"
      ],
      "metadata": {
        "id": "4u1KKACUugWA"
      }
    },
    {
      "cell_type": "code",
      "source": [
        "#creating a variable named \"text\" with\n",
        "text = \"  Hello Python  \"\n",
        "print(text)\n",
        "\n",
        "#using .lower() function to convert original text into lower case\n",
        "print(text.lower())\n",
        "\n",
        "#using .strip() function to remove leading and trailing space\n",
        "print(text.strip())\n",
        "\n",
        "#using .replace function to replace a particular word from the text\n",
        "print(text.replace(\"Python\",\"Java\"))\n",
        "\n",
        "#split\n",
        "\n",
        "splitted = text.strip().split() #function or method chaining\n",
        "print(splitted)\n",
        "\n",
        "#joining th splitted list with a hyphen(-)\n",
        "joined = \"-\".join(splitted)\n",
        "print(joined)\n",
        "\n",
        "#upper case first\n",
        "text = \"python\"\n",
        "print(text[0].upper())"
      ],
      "metadata": {
        "colab": {
          "base_uri": "https://localhost:8080/"
        },
        "id": "Dm2W4M-9s1U-",
        "outputId": "4071b43d-a12d-468c-f50e-54fff676afca"
      },
      "execution_count": 21,
      "outputs": [
        {
          "output_type": "stream",
          "name": "stdout",
          "text": [
            "  Hello Python  \n",
            "  hello python  \n",
            "Hello Python\n",
            "  Hello Java  \n",
            "['Hello', 'Python']\n",
            "Hello-Python\n",
            "P\n"
          ]
        }
      ]
    },
    {
      "cell_type": "markdown",
      "source": [
        "MODULAR PROGRAMMING IN PYTHON"
      ],
      "metadata": {
        "id": "pw9p6Tx6yh2E"
      }
    },
    {
      "cell_type": "code",
      "source": [
        "#importing math module\n",
        "import math\n",
        "\n",
        "square_root =math.sqrt(25)\n",
        "print(\"Square root is\",square_root)\n",
        "print(\"Square root of 36 is \",math.sqrt(36))\n",
        "\n",
        "floor = math.floor(3.2)\n",
        "print(\"floor of 3.2 is\",floor)\n",
        "ceiling = math.ceil(3.2)\n",
        "print(\"Ceiling of 3.2 is\", ceiling)"
      ],
      "metadata": {
        "colab": {
          "base_uri": "https://localhost:8080/"
        },
        "id": "jgGf73_Cunlf",
        "outputId": "6aaab488-a944-4cb2-b46b-f354d76a9e2a"
      },
      "execution_count": 25,
      "outputs": [
        {
          "output_type": "stream",
          "name": "stdout",
          "text": [
            "Square root is 5.0\n",
            "Square root of 36 is  6.0\n",
            "floor of 3.2 is 3\n",
            "Ceiling of 3.2 is 4\n"
          ]
        }
      ]
    },
    {
      "cell_type": "markdown",
      "source": [
        "MODULE ALAISING"
      ],
      "metadata": {
        "id": "7Bl5CSce01d4"
      }
    },
    {
      "cell_type": "code",
      "source": [
        "# import matplotlib.pyplot as plt\n",
        "# plt.plot([1,2],[2,4])"
      ],
      "metadata": {
        "id": "aIA7l-YLzIqV"
      },
      "execution_count": 27,
      "outputs": []
    },
    {
      "cell_type": "markdown",
      "source": [
        "VARIABLE ALIASING"
      ],
      "metadata": {
        "id": "zp2ylbfS1jS-"
      }
    },
    {
      "cell_type": "code",
      "source": [
        "a=[1,2,3]\n",
        "b = a\n",
        "b.append(4)\n",
        "print(b)\n",
        "print(a)\n"
      ],
      "metadata": {
        "colab": {
          "base_uri": "https://localhost:8080/"
        },
        "id": "68npFlWt1fBT",
        "outputId": "8aaa5058-e013-4af2-9581-794769c6daa4"
      },
      "execution_count": 28,
      "outputs": [
        {
          "output_type": "stream",
          "name": "stdout",
          "text": [
            "[1, 2, 3, 4]\n",
            "[1, 2, 3, 4]\n"
          ]
        }
      ]
    },
    {
      "cell_type": "markdown",
      "source": [
        "RANDOMS IN PYTHON"
      ],
      "metadata": {
        "id": "RvVkHma12Eje"
      }
    },
    {
      "cell_type": "code",
      "source": [
        "# importing random module and aliasing it as rdm\n",
        "import random as rdm\n",
        "print(rdm.randint(1,10))\n",
        "\n",
        "random_float = rdm.random()\n",
        "print(random_float)\n",
        "\n",
        "random_float_in_range = rdm.uniform(15.0,30.0)  #uniform is method\n",
        "print(random_float_in_range)"
      ],
      "metadata": {
        "colab": {
          "base_uri": "https://localhost:8080/"
        },
        "id": "RBeresuL1-I2",
        "outputId": "b1ba6ac3-d118-46b7-b391-03e72cc7fb4e"
      },
      "execution_count": 31,
      "outputs": [
        {
          "output_type": "stream",
          "name": "stdout",
          "text": [
            "1\n",
            "0.5899877323520213\n"
          ]
        }
      ]
    },
    {
      "cell_type": "markdown",
      "source": [
        "CREATING CUSTOM MMODULES IN PYTHON"
      ],
      "metadata": {
        "id": "uOoBX8Ks3xub"
      }
    },
    {
      "cell_type": "code",
      "source": [
        "#writefile is used here to take this cell as completely new .py file\n",
        "%%writefile helper.py\n",
        "#additor.py\n",
        "def add_numbers(a,b):\n",
        "  return a+b\n",
        ""
      ],
      "metadata": {
        "colab": {
          "base_uri": "https://localhost:8080/"
        },
        "id": "cTq4pb8G2mzF",
        "outputId": "2b81da04-32bd-4009-f63c-a26c436eaaa3"
      },
      "execution_count": 33,
      "outputs": [
        {
          "output_type": "stream",
          "name": "stdout",
          "text": [
            "Writing helper.py\n"
          ]
        }
      ]
    },
    {
      "cell_type": "code",
      "source": [
        "\n",
        "#main.py\n",
        "import helper\n",
        "result = helper.add_numbers(4,7)\n",
        "print(\"The sum is : \", result)"
      ],
      "metadata": {
        "colab": {
          "base_uri": "https://localhost:8080/"
        },
        "id": "7uSFSWU65CmY",
        "outputId": "d42c344e-ae38-45fb-8a90-9fe0e207c9f5"
      },
      "execution_count": 35,
      "outputs": [
        {
          "output_type": "stream",
          "name": "stdout",
          "text": [
            "The sum is :  11\n"
          ]
        }
      ]
    },
    {
      "cell_type": "code",
      "source": [],
      "metadata": {
        "id": "Kvi28PWG6XIl"
      },
      "execution_count": null,
      "outputs": []
    }
  ]
}