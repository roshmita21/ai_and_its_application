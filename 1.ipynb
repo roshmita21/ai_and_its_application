{
 "cells": [
  {
   "cell_type": "code",
   "execution_count": null,
   "id": "7e2e6c14",
   "metadata": {},
   "outputs": [],
   "source": [
    "import matplotlib.pyplot as plt\n",
    "# y=[,2,3,4,5]\n",
    "# x=[1,4,6,8,10]\n",
    "y=[5,4,3,4,5]\n",
    "x=[10,8,6,8,10]\n",
    "plt.plot(x,y, marker = 'o')\n",
    "#using .title\n",
    "plt.title(\"Line Plot\")\n",
    "plt.xlabel(\"x-axis\")\n",
    "plt.ylabel(\"y-axis\")\n",
    "plt.grid(True)\n",
    "plt.show()\n"
   ]
  },
  {
   "cell_type": "code",
   "execution_count": null,
   "id": "b989a49f",
   "metadata": {},
   "outputs": [],
   "source": [
    "import matplotlib.pyplot as plt"
   ]
  }
 ],
 "metadata": {
  "language_info": {
   "name": "python"
  }
 },
 "nbformat": 4,
 "nbformat_minor": 5
}
