{
  "nbformat": 4,
  "nbformat_minor": 0,
  "metadata": {
    "colab": {
      "provenance": []
    },
    "kernelspec": {
      "name": "python3",
      "display_name": "Python 3"
    },
    "language_info": {
      "name": "python"
    }
  },
  "cells": [
    {
      "cell_type": "markdown",
      "source": [
        "1"
      ],
      "metadata": {
        "id": "mnmYyOH9pRE1"
      }
    },
    {
      "cell_type": "code",
      "execution_count": null,
      "metadata": {
        "colab": {
          "base_uri": "https://localhost:8080/"
        },
        "id": "cNOEGxGypNq1",
        "outputId": "16422660-9c98-4bb2-cd16-aa76c36d2074"
      },
      "outputs": [
        {
          "output_type": "stream",
          "name": "stdout",
          "text": [
            "0.49999999999999994\n"
          ]
        }
      ],
      "source": [
        "#import math and calculate sine of 30 degrees\n",
        "import math\n",
        "calc_sine = math.sin(math.radians(30))\n",
        "print(calc_sine)"
      ]
    },
    {
      "cell_type": "code",
      "source": [
        "# import random as rng and generate random integer betn 50-75\n",
        "import random as rng\n",
        "print(rng.randint(50,75))\n"
      ],
      "metadata": {
        "colab": {
          "base_uri": "https://localhost:8080/"
        },
        "id": "wwLeF45vpzI5",
        "outputId": "20ee3e6b-3b3b-4b12-d24e-54ac0ed69aa3"
      },
      "execution_count": null,
      "outputs": [
        {
          "output_type": "stream",
          "name": "stdout",
          "text": [
            "56\n"
          ]
        }
      ]
    },
    {
      "cell_type": "code",
      "source": [
        "%%writefile calc.py\n",
        "def sqr_num(a):\n",
        "  return a*a"
      ],
      "metadata": {
        "colab": {
          "base_uri": "https://localhost:8080/"
        },
        "id": "WNZ2crI5q5Gv",
        "outputId": "09416da5-b8c5-4684-8080-8dca66e0e4a8"
      },
      "execution_count": null,
      "outputs": [
        {
          "output_type": "stream",
          "name": "stdout",
          "text": [
            "Writing calc.py\n"
          ]
        }
      ]
    },
    {
      "cell_type": "code",
      "source": [
        "#main.py\n",
        "import calc\n",
        "res=calc.sqr_num(8)\n",
        "print(\"The square of 8 is:\",res)"
      ],
      "metadata": {
        "colab": {
          "base_uri": "https://localhost:8080/"
        },
        "id": "hyc20J7ErRY4",
        "outputId": "5023db1d-995b-4335-cd1e-98c408d3563c"
      },
      "execution_count": null,
      "outputs": [
        {
          "output_type": "stream",
          "name": "stdout",
          "text": [
            "The square of 8 is: 64\n"
          ]
        }
      ]
    },
    {
      "cell_type": "code",
      "source": [
        "from random import choice\n",
        "fruits = [\"Mango\",\"Apple\",\"Grape\"]\n",
        "result = choice(fruits)\n",
        "print(\"The chosen fruit is :\",result)\n"
      ],
      "metadata": {
        "colab": {
          "base_uri": "https://localhost:8080/"
        },
        "id": "FB2L7fc6ruu_",
        "outputId": "1c3e8298-243c-4499-d741-471c491f9513"
      },
      "execution_count": null,
      "outputs": [
        {
          "output_type": "stream",
          "name": "stdout",
          "text": [
            "The chosen fruit is : Mango\n"
          ]
        }
      ]
    },
    {
      "cell_type": "code",
      "source": [
        "#tuples and set\n",
        "# tuples...\n",
        "info = (\"Rosh\", 21,\"Ktm\")\n",
        "print(info[0])\n",
        "for item in info:\n",
        "  print(item)\n",
        "\n",
        "#set\n",
        "a={2,3,4}\n",
        "b={1,2,3}\n",
        "print(a | b)   #union operation\n",
        "print(a & b)  #intersection operation"
      ],
      "metadata": {
        "id": "ZBn_BKM8sw98",
        "colab": {
          "base_uri": "https://localhost:8080/"
        },
        "outputId": "fc8aa39a-6161-45b2-a476-2de7bd592b42"
      },
      "execution_count": 8,
      "outputs": [
        {
          "output_type": "stream",
          "name": "stdout",
          "text": [
            "Rosh\n",
            "Rosh\n",
            "21\n",
            "Ktm\n",
            "{1, 2, 3, 4}\n",
            "{2, 3}\n"
          ]
        }
      ]
    },
    {
      "cell_type": "code",
      "source": [
        "#function aliasing\n",
        "def addition(a,b):\n",
        "  return a+b\n",
        "add = addition(4,5)\n",
        "print(add)"
      ],
      "metadata": {
        "colab": {
          "base_uri": "https://localhost:8080/"
        },
        "id": "kjKDTArj3Xz3",
        "outputId": "9a89f88f-b9d8-488f-9e0e-85652e645152"
      },
      "execution_count": 6,
      "outputs": [
        {
          "output_type": "stream",
          "name": "stdout",
          "text": [
            "9\n"
          ]
        }
      ]
    },
    {
      "cell_type": "code",
      "source": [
        "#explore more modules and functions/methods of math\n",
        "import math\n",
        "gcd=math.gcd(4,5)\n",
        "print(\"The gcd is:\",gcd)\n",
        "\n"
      ],
      "metadata": {
        "colab": {
          "base_uri": "https://localhost:8080/"
        },
        "id": "DKLbK8yy3b6B",
        "outputId": "c0da210c-c9ad-48c8-aa47-c5c34a92012d"
      },
      "execution_count": 7,
      "outputs": [
        {
          "output_type": "stream",
          "name": "stdout",
          "text": [
            "The gcd is: 1\n"
          ]
        }
      ]
    }
  ]
}